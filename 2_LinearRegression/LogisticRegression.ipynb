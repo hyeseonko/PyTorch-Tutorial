{
 "cells": [
  {
   "cell_type": "markdown",
   "metadata": {},
   "source": [
    "# Logistic Regression\n",
    "\n",
    "- Date: 2018-04-12"
   ]
  },
  {
   "cell_type": "code",
   "execution_count": 1,
   "metadata": {
    "collapsed": true
   },
   "outputs": [],
   "source": [
    "# Import libraries\n",
    "\n",
    "import torch          \n",
    "import torch.nn as nn  \n",
    "import torchvision.datasets as dsets  \n",
    "import torchvision.transforms as transforms\n",
    "from torch.autograd import Variable"
   ]
  },
  {
   "cell_type": "code",
   "execution_count": 2,
   "metadata": {
    "collapsed": true
   },
   "outputs": [],
   "source": [
    "# Hyper-parameters\n",
    "\n",
    "input_size=784\n",
    "num_classes=10\n",
    "num_epochs=5\n",
    "batch_size=100\n",
    "learning_rate=1e-3"
   ]
  },
  {
   "cell_type": "code",
   "execution_count": 19,
   "metadata": {},
   "outputs": [
    {
     "name": "stdout",
     "output_type": "stream",
     "text": [
      "60000\n",
      "10000\n"
     ]
    }
   ],
   "source": [
    "# MNIST Dataset (Images and labels)\n",
    "\n",
    "train_dataset = dsets.MNIST(root='./data', train=True, transform=transforms.ToTensor(), download=True)\n",
    "test_dataset = dsets.MNIST(root='./data', train=False, transform=transforms.ToTensor())\n",
    "print(len(train_dataset))\n",
    "print(len(test_dataset))"
   ]
  },
  {
   "cell_type": "code",
   "execution_count": 16,
   "metadata": {
    "collapsed": true
   },
   "outputs": [],
   "source": [
    "# Data Loader(Input Pipeline)\n",
    "\n",
    "train_loader=torch.utils.data.DataLoader(dataset=train_dataset, batch_size=batch_size, shuffle=True)\n",
    "test_loader=torch.utils.data.DataLoader(dataset=test_dataset, batch_size=batch_size, shuffle=False)"
   ]
  },
  {
   "cell_type": "code",
   "execution_count": 6,
   "metadata": {
    "collapsed": true
   },
   "outputs": [],
   "source": [
    "# Model\n",
    "\n",
    "class LogisticRegression(nn.Module):\n",
    "    def __init__(self, input_size, num_classes):\n",
    "        super(LogisticRegression, self).__init__()\n",
    "        self.linear=nn.Linear(input_size, num_classes)\n",
    "    def forward(self, x):\n",
    "        out=self.linear(x)\n",
    "        return out\n"
   ]
  },
  {
   "cell_type": "code",
   "execution_count": 7,
   "metadata": {
    "collapsed": true
   },
   "outputs": [],
   "source": [
    "model=LogisticRegression(input_size, num_classes)"
   ]
  },
  {
   "cell_type": "code",
   "execution_count": 9,
   "metadata": {
    "collapsed": true
   },
   "outputs": [],
   "source": [
    "# Loss and Optimizer\n",
    "\n",
    "criterion = nn.CrossEntropyLoss()\n",
    "optimizer = torch.optim.SGD(model.parameters(), lr=learning_rate)"
   ]
  },
  {
   "cell_type": "code",
   "execution_count": 20,
   "metadata": {},
   "outputs": [
    {
     "name": "stdout",
     "output_type": "stream",
     "text": [
      "Epoch: [1/5], Step: [100/600], Loss: 0.6173\n",
      "Epoch: [1/5], Step: [200/600], Loss: 0.5657\n",
      "Epoch: [1/5], Step: [300/600], Loss: 0.6644\n",
      "Epoch: [1/5], Step: [400/600], Loss: 0.4157\n",
      "Epoch: [1/5], Step: [500/600], Loss: 0.4765\n",
      "Epoch: [1/5], Step: [600/600], Loss: 0.6376\n",
      "Epoch: [2/5], Step: [100/600], Loss: 0.5463\n",
      "Epoch: [2/5], Step: [200/600], Loss: 0.5289\n",
      "Epoch: [2/5], Step: [300/600], Loss: 0.4857\n",
      "Epoch: [2/5], Step: [400/600], Loss: 0.5720\n",
      "Epoch: [2/5], Step: [500/600], Loss: 0.4738\n",
      "Epoch: [2/5], Step: [600/600], Loss: 0.4858\n",
      "Epoch: [3/5], Step: [100/600], Loss: 0.5090\n",
      "Epoch: [3/5], Step: [200/600], Loss: 0.4695\n",
      "Epoch: [3/5], Step: [300/600], Loss: 0.5769\n",
      "Epoch: [3/5], Step: [400/600], Loss: 0.5690\n",
      "Epoch: [3/5], Step: [500/600], Loss: 0.4691\n",
      "Epoch: [3/5], Step: [600/600], Loss: 0.4677\n",
      "Epoch: [4/5], Step: [100/600], Loss: 0.4403\n",
      "Epoch: [4/5], Step: [200/600], Loss: 0.5641\n",
      "Epoch: [4/5], Step: [300/600], Loss: 0.4988\n",
      "Epoch: [4/5], Step: [400/600], Loss: 0.5919\n",
      "Epoch: [4/5], Step: [500/600], Loss: 0.4795\n",
      "Epoch: [4/5], Step: [600/600], Loss: 0.4478\n",
      "Epoch: [5/5], Step: [100/600], Loss: 0.5011\n",
      "Epoch: [5/5], Step: [200/600], Loss: 0.4548\n",
      "Epoch: [5/5], Step: [300/600], Loss: 0.4987\n",
      "Epoch: [5/5], Step: [400/600], Loss: 0.4213\n",
      "Epoch: [5/5], Step: [500/600], Loss: 0.4542\n",
      "Epoch: [5/5], Step: [600/600], Loss: 0.5677\n"
     ]
    }
   ],
   "source": [
    "# Train the model\n",
    "\n",
    "for epoch in range(num_epochs):\n",
    "    for i, (images, labels) in enumerate(train_loader):\n",
    "        images = Variable(images.view(-1, 28*28))\n",
    "        labels = Variable(labels)\n",
    "        \n",
    "        # Forward + Backward + Optimize\n",
    "        optimizer.zero_grad()\n",
    "        outputs = model(images) # prediction. forward\n",
    "        loss = criterion(outputs, labels) # prediction, real value\n",
    "        loss.backward()\n",
    "        optimizer.step()\n",
    "        \n",
    "        if (i+1) % 100 == 0:\n",
    "            print('Epoch: [%d/%d], Step: [%d/%d], Loss: %.4f' %(epoch+1, num_epochs, i+1, len(train_dataset)/batch_size, loss.data[0]))\n",
    "\n",
    "            \n",
    "# Mini-batch 할 때 Tip, 순서\n",
    "# zero_grad()를 하지 않으면 gradient가 계속해서 accumulate 된다. 고로..\n",
    "# Zero_Grad -> Forward -> Backward -> Step -> Repeat\n",
    "\n",
    "# loss.backward()\n",
    "# gradient가 accumulate되는 과정. 그래서 여러번 하면 계속 accumulate되므로 grad=0로 만든 후에, 다시 compute forward => backward 해줘야 함.\n",
    "\n",
    "# optimizer.step() = 쉽게, parameter를 update한다고 생각하면 됨.\n",
    "# performs a parameter update based on current gradient "
   ]
  },
  {
   "cell_type": "code",
   "execution_count": 42,
   "metadata": {},
   "outputs": [
    {
     "name": "stdout",
     "output_type": "stream",
     "text": [
      "Accuracy of the model on the 10,000 test images: 88 %\n"
     ]
    }
   ],
   "source": [
    "# Test the model\n",
    "\n",
    "correct = 0\n",
    "total = 0\n",
    "for images, labels in test_loader:\n",
    "    images = Variable(images.view(-1, 28*28))\n",
    "    outputs = model(images) # prediction\n",
    "    _, predicted = torch.max(outputs.data, 1)\n",
    "    total += labels.size(0)\n",
    "    #print(labels.size(0)) # 100 나옴 \n",
    "    correct += (predicted==labels).sum()\n",
    "\n",
    "print('Accuracy of the model on the 10,000 test images: %d %%' %(100*correct/total))"
   ]
  },
  {
   "cell_type": "code",
   "execution_count": 41,
   "metadata": {
    "collapsed": true
   },
   "outputs": [],
   "source": [
    "# Save the Model\n",
    "\n",
    "torch.save(model.state_dict(), 'model.pkl')"
   ]
  },
  {
   "cell_type": "code",
   "execution_count": null,
   "metadata": {
    "collapsed": true
   },
   "outputs": [],
   "source": []
  },
  {
   "cell_type": "code",
   "execution_count": null,
   "metadata": {
    "collapsed": true
   },
   "outputs": [],
   "source": []
  },
  {
   "cell_type": "code",
   "execution_count": null,
   "metadata": {
    "collapsed": true
   },
   "outputs": [],
   "source": []
  },
  {
   "cell_type": "code",
   "execution_count": null,
   "metadata": {
    "collapsed": true
   },
   "outputs": [],
   "source": []
  },
  {
   "cell_type": "code",
   "execution_count": null,
   "metadata": {
    "collapsed": true
   },
   "outputs": [],
   "source": []
  },
  {
   "cell_type": "code",
   "execution_count": null,
   "metadata": {
    "collapsed": true
   },
   "outputs": [],
   "source": []
  },
  {
   "cell_type": "code",
   "execution_count": null,
   "metadata": {
    "collapsed": true
   },
   "outputs": [],
   "source": []
  },
  {
   "cell_type": "code",
   "execution_count": null,
   "metadata": {
    "collapsed": true
   },
   "outputs": [],
   "source": []
  },
  {
   "cell_type": "code",
   "execution_count": null,
   "metadata": {
    "collapsed": true
   },
   "outputs": [],
   "source": []
  },
  {
   "cell_type": "code",
   "execution_count": null,
   "metadata": {
    "collapsed": true
   },
   "outputs": [],
   "source": []
  }
 ],
 "metadata": {
  "kernelspec": {
   "display_name": "Python 3",
   "language": "python",
   "name": "python3"
  },
  "language_info": {
   "codemirror_mode": {
    "name": "ipython",
    "version": 3
   },
   "file_extension": ".py",
   "mimetype": "text/x-python",
   "name": "python",
   "nbconvert_exporter": "python",
   "pygments_lexer": "ipython3",
   "version": "3.6.3"
  }
 },
 "nbformat": 4,
 "nbformat_minor": 2
}
