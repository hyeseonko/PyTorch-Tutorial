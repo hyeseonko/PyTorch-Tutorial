{
 "cells": [
  {
   "cell_type": "markdown",
   "metadata": {},
   "source": [
    "# MLP\n",
    "\n",
    "- Date: 2018-04-12"
   ]
  },
  {
   "cell_type": "code",
   "execution_count": 1,
   "metadata": {
    "collapsed": true
   },
   "outputs": [],
   "source": [
    "# import libraries\n",
    "import torch\n",
    "import torch.nn as nn\n",
    "import torchvision.datasets as dsets\n",
    "import torchvision.transforms as transforms\n",
    "from torch.autograd import Variable"
   ]
  },
  {
   "cell_type": "code",
   "execution_count": 9,
   "metadata": {
    "collapsed": true
   },
   "outputs": [],
   "source": [
    "# Hyper-parameters\n",
    "\n",
    "input_size=28*28\n",
    "hidden_size = 500\n",
    "num_classes = 10\n",
    "num_epochs = 5\n",
    "batch_size = 100\n",
    "learning_rate=1e-3"
   ]
  },
  {
   "cell_type": "code",
   "execution_count": 10,
   "metadata": {
    "collapsed": true
   },
   "outputs": [],
   "source": [
    "# MNIST dataset\n",
    "\n",
    "train_dataset=dsets.MNIST(root='./data', train=True, transform=transforms.ToTensor(), download=True)\n",
    "test_dataset=dsets.MNIST(root='./data', train=False, transform=transforms.ToTensor())"
   ]
  },
  {
   "cell_type": "code",
   "execution_count": 11,
   "metadata": {
    "collapsed": true
   },
   "outputs": [],
   "source": [
    "# Data Loader (Input Pipeline)\n",
    "\n",
    "train_loader=torch.utils.data.DataLoader(dataset=train_dataset, batch_size=batch_size, shuffle=True)\n",
    "test_loader=torch.utils.data.DataLoader(dataset=test_dataset, batch_size=batch_size, shuffle=False)"
   ]
  },
  {
   "cell_type": "code",
   "execution_count": 12,
   "metadata": {
    "collapsed": true
   },
   "outputs": [],
   "source": [
    "# Neural Network Model (1 hidden layer)\n",
    "\n",
    "class Net(nn.Module):\n",
    "    def __init__(self, input_size, hidden_size, num_classes):\n",
    "        super(Net, self).__init__()\n",
    "        self.fc1=nn.Linear(input_size, hidden_size)\n",
    "        self.relu=nn.ReLU()\n",
    "        self.fc2=nn.Linear(hidden_size, num_classes)\n",
    "    def forward(self, x):\n",
    "        out=self.fc1(x)\n",
    "        out=self.relu(out)\n",
    "        out=self.fc2(out)\n",
    "        return out"
   ]
  },
  {
   "cell_type": "code",
   "execution_count": 13,
   "metadata": {},
   "outputs": [
    {
     "data": {
      "text/plain": [
       "Net(\n",
       "  (fc1): Linear(in_features=784, out_features=500, bias=True)\n",
       "  (relu): ReLU()\n",
       "  (fc2): Linear(in_features=500, out_features=10, bias=True)\n",
       ")"
      ]
     },
     "execution_count": 13,
     "metadata": {},
     "output_type": "execute_result"
    }
   ],
   "source": [
    "net=Net(input_size, hidden_size, num_classes)\n",
    "net.cuda()"
   ]
  },
  {
   "cell_type": "code",
   "execution_count": 14,
   "metadata": {
    "collapsed": true
   },
   "outputs": [],
   "source": [
    "# Loss and Optimizer\n",
    "\n",
    "criterion=nn.CrossEntropyLoss()\n",
    "optimizer=torch.optim.Adam(net.parameters(), lr=learning_rate)"
   ]
  },
  {
   "cell_type": "code",
   "execution_count": 16,
   "metadata": {},
   "outputs": [
    {
     "name": "stdout",
     "output_type": "stream",
     "text": [
      "Epoch [1/5], Step [100/600], Loss: 0.3014\n",
      "Epoch [1/5], Step [200/600], Loss: 0.4045\n",
      "Epoch [1/5], Step [300/600], Loss: 0.2345\n",
      "Epoch [1/5], Step [400/600], Loss: 0.1312\n",
      "Epoch [1/5], Step [500/600], Loss: 0.2023\n",
      "Epoch [1/5], Step [600/600], Loss: 0.1120\n",
      "Epoch [2/5], Step [100/600], Loss: 0.1556\n",
      "Epoch [2/5], Step [200/600], Loss: 0.0951\n",
      "Epoch [2/5], Step [300/600], Loss: 0.1134\n",
      "Epoch [2/5], Step [400/600], Loss: 0.0490\n",
      "Epoch [2/5], Step [500/600], Loss: 0.1007\n",
      "Epoch [2/5], Step [600/600], Loss: 0.0733\n",
      "Epoch [3/5], Step [100/600], Loss: 0.0491\n",
      "Epoch [3/5], Step [200/600], Loss: 0.1728\n",
      "Epoch [3/5], Step [300/600], Loss: 0.0973\n",
      "Epoch [3/5], Step [400/600], Loss: 0.0482\n",
      "Epoch [3/5], Step [500/600], Loss: 0.0521\n",
      "Epoch [3/5], Step [600/600], Loss: 0.1030\n",
      "Epoch [4/5], Step [100/600], Loss: 0.0287\n",
      "Epoch [4/5], Step [200/600], Loss: 0.0173\n",
      "Epoch [4/5], Step [300/600], Loss: 0.0148\n",
      "Epoch [4/5], Step [400/600], Loss: 0.0163\n",
      "Epoch [4/5], Step [500/600], Loss: 0.0558\n",
      "Epoch [4/5], Step [600/600], Loss: 0.0253\n",
      "Epoch [5/5], Step [100/600], Loss: 0.0229\n",
      "Epoch [5/5], Step [200/600], Loss: 0.0142\n",
      "Epoch [5/5], Step [300/600], Loss: 0.0792\n",
      "Epoch [5/5], Step [400/600], Loss: 0.0622\n",
      "Epoch [5/5], Step [500/600], Loss: 0.0120\n",
      "Epoch [5/5], Step [600/600], Loss: 0.0371\n"
     ]
    }
   ],
   "source": [
    "# Train the Model\n",
    "\n",
    "for epoch in range(num_epochs):\n",
    "    for i, (images, labels) in enumerate(train_loader):\n",
    "        # Convert torch Tensor to Variable\n",
    "        images=Variable(images.view(-1, 28*28).cuda())\n",
    "        labels=Variable(labels.cuda())\n",
    "        \n",
    "        # Forward + Backward + Optimize\n",
    "        optimizer.zero_grad() # make the gradient buffer zero\n",
    "        outputs = net(images)\n",
    "        loss = criterion(outputs, labels) # prediction, real value\n",
    "        loss.backward() # gradient 계산하는 것\n",
    "        optimizer.step() # 계산된 gradient로 update하는 것\n",
    "        \n",
    "        if (i+1) % 100 == 0:\n",
    "            print('Epoch [%d/%d], Step [%d/%d], Loss: %.4f' %(epoch+1, num_epochs, i+1, len(train_dataset)/ batch_size, loss.data[0]))\n",
    "\n",
    "# Tensor와 Variable의 차이점\n",
    "# Tensor는 그냥 data라고 생각하면 되고, Variable은 그러한 Tensor를 gradient계산하고 싶을 때 Variable로 변환해준다고 생각하면 됨.\n",
    "# 단순한 데이터일 것이냐, 모델에서 graident를 flow하게끔 해주는 변수일 것이냐"
   ]
  },
  {
   "cell_type": "code",
   "execution_count": 21,
   "metadata": {},
   "outputs": [
    {
     "name": "stdout",
     "output_type": "stream",
     "text": [
      "Accuracy of the network on the 10,000 test images: 98 %\n"
     ]
    }
   ],
   "source": [
    "# Test the Model\n",
    "\n",
    "correct = 0\n",
    "total = 0\n",
    "for images, labels in test_loader:\n",
    "    images=Variable(images.view(-1, 28*28)).cuda()\n",
    "    outputs=net(images)\n",
    "    _,predicted=torch.max(outputs.data, 1)\n",
    "    total+=labels.size(0)\n",
    "    correct+=(predicted.cpu()==labels).sum()\n",
    "\n",
    "print('Accuracy of the network on the 10,000 test images: %d %%' %(100*correct/total))\n",
    "\n",
    "# Save the Model\n",
    "torch.save(net.state_dict(), 'model.pkl')"
   ]
  },
  {
   "cell_type": "code",
   "execution_count": null,
   "metadata": {
    "collapsed": true
   },
   "outputs": [],
   "source": []
  },
  {
   "cell_type": "code",
   "execution_count": null,
   "metadata": {
    "collapsed": true
   },
   "outputs": [],
   "source": []
  },
  {
   "cell_type": "code",
   "execution_count": null,
   "metadata": {
    "collapsed": true
   },
   "outputs": [],
   "source": []
  },
  {
   "cell_type": "code",
   "execution_count": null,
   "metadata": {
    "collapsed": true
   },
   "outputs": [],
   "source": []
  },
  {
   "cell_type": "code",
   "execution_count": null,
   "metadata": {
    "collapsed": true
   },
   "outputs": [],
   "source": []
  },
  {
   "cell_type": "code",
   "execution_count": null,
   "metadata": {
    "collapsed": true
   },
   "outputs": [],
   "source": []
  },
  {
   "cell_type": "code",
   "execution_count": null,
   "metadata": {
    "collapsed": true
   },
   "outputs": [],
   "source": []
  },
  {
   "cell_type": "code",
   "execution_count": null,
   "metadata": {
    "collapsed": true
   },
   "outputs": [],
   "source": []
  },
  {
   "cell_type": "code",
   "execution_count": null,
   "metadata": {
    "collapsed": true
   },
   "outputs": [],
   "source": []
  },
  {
   "cell_type": "code",
   "execution_count": null,
   "metadata": {
    "collapsed": true
   },
   "outputs": [],
   "source": []
  },
  {
   "cell_type": "code",
   "execution_count": null,
   "metadata": {
    "collapsed": true
   },
   "outputs": [],
   "source": []
  }
 ],
 "metadata": {
  "kernelspec": {
   "display_name": "Python 3",
   "language": "python",
   "name": "python3"
  },
  "language_info": {
   "codemirror_mode": {
    "name": "ipython",
    "version": 3
   },
   "file_extension": ".py",
   "mimetype": "text/x-python",
   "name": "python",
   "nbconvert_exporter": "python",
   "pygments_lexer": "ipython3",
   "version": "3.6.3"
  }
 },
 "nbformat": 4,
 "nbformat_minor": 2
}
